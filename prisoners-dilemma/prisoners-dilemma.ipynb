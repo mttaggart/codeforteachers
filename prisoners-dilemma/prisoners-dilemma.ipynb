{
 "cells": [
  {
   "cell_type": "markdown",
   "metadata": {},
   "source": [
    "# Prisoner's Dilemma\n",
    "\n",
    "This is an implementation of the [Prisoner's dilemma](https://en.wikipedia.org/wiki/Prisoner%27s_dilemma) using Python.\n",
    "\n",
    "First thing we do is define what a `Prisoner` is."
   ]
  },
  {
   "cell_type": "code",
   "execution_count": 1,
   "metadata": {},
   "outputs": [],
   "source": [
    "class Prisoner:\n",
    "    \n",
    "    def __init__(self, label: str, strategy):\n",
    "        self.label = label\n",
    "        self.score = 0\n",
    "        self.strategy = strategy\n",
    "        \n",
    "    def decide(self, history: list) -> tuple:\n",
    "        \"\"\"\n",
    "        strategy is a function that returns a decision in the form\n",
    "        of a tuple containing the prisoner's label and a \n",
    "        string indicating the choice\n",
    "        \"\"\"\n",
    "        return self.strategy(self, history)\n"
   ]
  },
  {
   "cell_type": "markdown",
   "metadata": {},
   "source": [
    "`Prisoner`s are essentially containers for strategies and scores associated with those strategies. As the dilemma continues for a given number of turns, the scores will change according to these rules:\n",
    "\n",
    "A/B | B Silent | B Betrays\n",
    "--|--\n",
    "**A Silent** | -1 /-1 | -3 / 0\n",
    "**A Betrays** |0 / -3 | -2 / -2\n",
    "\n",
    "## Scores\n",
    "The way this works, our scores will always be negative. Think about this as how many years the `Prisoner` has added to its sentence. The closer to 0, the better the `Prisoner` has done in the game.\n",
    "\n",
    "## Strategies\n",
    "The `Prisoner` needs a strategy. For ease, we're going to abstract strategies from the Prisoner itself, so we can make a bunch, and then create Prisoners with whichever strategy we like.\n",
    "\n",
    "This approach is solid, since the shape of each strategy will be the same: a `function` that returns a `tuple` containing the `Prisoner`'s label, and the move: either `\"BETRAY\"` or `\"SILENT\"`.\n",
    "\n",
    "Now let's make some strategies. The easiest, of course, is to always do the same thing. Let's do those:"
   ]
  },
  {
   "cell_type": "code",
   "execution_count": 2,
   "metadata": {},
   "outputs": [],
   "source": [
    "def always_betray(p: Prisoner, history: list):\n",
    "    return (p.label, \"BETRAY\")\n",
    "\n",
    "def always_silent(p: Prisoner, history: list):\n",
    "    return (p.label, \"SILENT\")"
   ]
  },
  {
   "cell_type": "markdown",
   "metadata": {},
   "source": [
    "But you see of course, that these strategy functions can also look at history. We haven't seen the history yet, but once we have a place to put it, it'll be a list of every event in the \"game.\" We can filter down to see only events from the other prisoner, and make choices based on the pattern.\n",
    "\n",
    "For instance, perhaps we want to test a strategy that is nice until the other player is not, at which point, it's \"No more Mr. Nice `Prisoner`,\" and they start betraying every turn. Or perhaps we'll betray on a betrayal, but maintain peace otherwise.\n",
    "\n",
    "Or *maybe* we'll flip a coin and let fate decide."
   ]
  },
  {
   "cell_type": "code",
   "execution_count": 3,
   "metadata": {},
   "outputs": [],
   "source": [
    "def scorched_earth(p: Prisoner, history):\n",
    "    \"\"\"\n",
    "    If you cross me JUST ONCE, it's all-out war from here on out.\n",
    "    \"\"\"\n",
    "    \n",
    "    # First, filter history for just our opponent's betrayals.\n",
    "    o_hist = list(filter(lambda x: x[0] != p.label and x[1] == \"BETRAY\"))\n",
    "    \n",
    "    # If there are any betrayals, it's on.\n",
    "    if len(o_hist) > 0:\n",
    "        return (p.label, \"BETRAY\")\n",
    "    \n",
    "    return (p.label, \"SILENT\")\n",
    "\n",
    "def vengeful(p: Prisoner, history):\n",
    "    \"\"\"\n",
    "    Betrays on a prior betrayal, but keeps it peaceful otherwise\n",
    "    \"\"\"\n",
    "    \n",
    "    # First, filter history for just our opponent's.\n",
    "    o_hist = list(filter(lambda x: x[0] != p.label, history))\n",
    "    \n",
    "    # if the last move was to betray, get 'im back\n",
    "    if len(o_hist) > 0:\n",
    "        if o_hist[-1][1] == \"BETRAY\":\n",
    "            return (p.label, \"BETRAY\")\n",
    "        \n",
    "        return (p.label, \"SILENT\")\n",
    "    \n",
    "    # Otherwise, keep it peaceful\n",
    "    return (p.label, \"SILENT\")\n",
    "\n",
    "def grudge(p: Prisoner, history):\n",
    "    \"\"\"\n",
    "    If you've crossed me in the last 5 turns, I'll betray you\n",
    "    \"\"\"\n",
    "    \n",
    "    o_hist = list(filter(lambda x: x[0] != p.label, history))\n",
    "    recent_o_hist = o_list[len(o_hist) - 5 :: ]\n",
    "    recent_betrayals = list(filter(lambda x: x[1] == \"BETRAY\", recent_o_hist))\n",
    "    \n",
    "    if len(recent_betrayals) > 0:\n",
    "        return (p.label, \"BETRAY\")\n",
    "    \n",
    "    return (p.label, \"SILENT\")\n",
    "    \n",
    "\n",
    "import random\n",
    "\n",
    "def coin_toss(p: Prisoner, history):\n",
    "    \"\"\"\n",
    "    The true madman's strategy\n",
    "    \"\"\"\n",
    "    return (p.label, random.choice([\"SILENT\",\"BETRAY\"]))"
   ]
  },
  {
   "cell_type": "markdown",
   "metadata": {},
   "source": [
    "With that done, it's time to make us some prisoners. Let's make them friendly to start."
   ]
  },
  {
   "cell_type": "code",
   "execution_count": 4,
   "metadata": {},
   "outputs": [],
   "source": [
    "prisoner_a = Prisoner(\"Prisoner A\", always_silent)\n",
    "prisoner_b = Prisoner(\"Prisoner B\", always_silent)"
   ]
  },
  {
   "cell_type": "markdown",
   "metadata": {},
   "source": [
    "But of course, Prisoners are not that useful without a scenario. Or, more poetically, a `Prison`."
   ]
  },
  {
   "cell_type": "code",
   "execution_count": 5,
   "metadata": {},
   "outputs": [],
   "source": [
    "class Prison:\n",
    "    \n",
    "    def __init__(self, prisoner_a, prisoner_b):\n",
    "        self.prisoner_a = prisoner_a\n",
    "        self.prisoner_b = prisoner_b\n",
    "        self.history = []\n",
    "        \n",
    "    def turn(self):\n",
    "        \"\"\"\n",
    "        Run a single turn of the dilemma, making prisoners have to employ\n",
    "        their strategy. Also, adjust the scores accordingly.\n",
    "        \"\"\"\n",
    "        choice_a = self.prisoner_a.decide(self.history)\n",
    "        choice_b = self.prisoner_b.decide(self.history)\n",
    "        \n",
    "        # Time to evaluate the results\n",
    "        if choice_a[1] == \"SILENT\" and choice_b[1] == \"SILENT\":\n",
    "            self.prisoner_a.score -= 1\n",
    "            self.prisoner_b.score -= 1\n",
    "        elif choice_a[1] == \"SILENT\" and choice_b[1] == \"BETRAY\":\n",
    "            self.prisoner_a.score -= 3\n",
    "        elif choice_a[1] == \"BETRAY\" and choice_b[1] == \"SILENT\":\n",
    "            self.prisoner_b.score -= 3\n",
    "        else:\n",
    "            self.prisoner_a.score -= 2\n",
    "            self.prisoner_b.score -= 2\n",
    "        \n",
    "        #Then add the choices to history        \n",
    "        self.history.append(choice_a)\n",
    "        self.history.append(choice_b)\n",
    "    \n",
    "    def run(self, turns: int) -> list:\n",
    "        \"\"\"\n",
    "        Actually run the simulatio\n",
    "        \"\"\"\n",
    "        \n",
    "        # Resets scores just in case\n",
    "        self.prisoner_a.score = 0\n",
    "        self.prisoner_b.score = 0\n",
    "        \n",
    "        for i in range(turns):\n",
    "            self.turn()\n",
    "            \n",
    "        return self.history\n",
    "    "
   ]
  },
  {
   "cell_type": "markdown",
   "metadata": {},
   "source": [
    "I realize there's some repetition in that code. However, since we really only deal with 2 prisoners at a time, I have broken the \"Don't Repeat Yourself\" (DRY) rule in the service of clarity.\n",
    "\n",
    "Let's get the prisoner's dilemma-ing:"
   ]
  },
  {
   "cell_type": "code",
   "execution_count": 6,
   "metadata": {},
   "outputs": [
    {
     "name": "stdout",
     "output_type": "stream",
     "text": [
      "[('Prisoner A', 'SILENT'),\n",
      " ('Prisoner B', 'SILENT'),\n",
      " ('Prisoner A', 'SILENT'),\n",
      " ('Prisoner B', 'SILENT'),\n",
      " ('Prisoner A', 'SILENT'),\n",
      " ('Prisoner B', 'SILENT'),\n",
      " ('Prisoner A', 'SILENT'),\n",
      " ('Prisoner B', 'SILENT'),\n",
      " ('Prisoner A', 'SILENT'),\n",
      " ('Prisoner B', 'SILENT'),\n",
      " ('Prisoner A', 'SILENT'),\n",
      " ('Prisoner B', 'SILENT'),\n",
      " ('Prisoner A', 'SILENT'),\n",
      " ('Prisoner B', 'SILENT'),\n",
      " ('Prisoner A', 'SILENT'),\n",
      " ('Prisoner B', 'SILENT'),\n",
      " ('Prisoner A', 'SILENT'),\n",
      " ('Prisoner B', 'SILENT'),\n",
      " ('Prisoner A', 'SILENT'),\n",
      " ('Prisoner B', 'SILENT')]\n",
      "Prisoner A: -10\n",
      "Prisoner B: -10\n"
     ]
    }
   ],
   "source": [
    "from pprint import pprint # Pretty Printer\n",
    "\n",
    "def print_results(prison):\n",
    "    \"\"\"\n",
    "    Prettily print the results from a prison.\n",
    "    \"\"\"\n",
    "    score_a = prison.prisoner_a.score\n",
    "    score_b = prison.prisoner_b.score\n",
    "    pprint(prison.history)\n",
    "    print(prison.prisoner_a.label + \": \" + str(score_a))\n",
    "    print(prison.prisoner_b.label + \": \" + str(score_b))\n",
    "\n",
    "prison = Prison(prisoner_a, prisoner_b)\n",
    "prison.run(10)\n",
    "\n",
    "print_results(prison)"
   ]
  },
  {
   "cell_type": "markdown",
   "metadata": {},
   "source": [
    "If everyone cooperates the whole time, the amount of total years added across both Prisoners is minimized.\n",
    "\n",
    "But generally, one or the other decides to take some advantage for themselves.\n",
    "\n",
    "Let's try some other strategies. Let's make a vengeful prisoner go against a (naively) friendly one:"
   ]
  },
  {
   "cell_type": "code",
   "execution_count": 7,
   "metadata": {},
   "outputs": [
    {
     "name": "stdout",
     "output_type": "stream",
     "text": [
      "[('Vengeful prisoner', 'SILENT'),\n",
      " ('Friendly prisoner', 'SILENT'),\n",
      " ('Vengeful prisoner', 'SILENT'),\n",
      " ('Friendly prisoner', 'SILENT'),\n",
      " ('Vengeful prisoner', 'SILENT'),\n",
      " ('Friendly prisoner', 'SILENT'),\n",
      " ('Vengeful prisoner', 'SILENT'),\n",
      " ('Friendly prisoner', 'SILENT'),\n",
      " ('Vengeful prisoner', 'SILENT'),\n",
      " ('Friendly prisoner', 'SILENT'),\n",
      " ('Vengeful prisoner', 'SILENT'),\n",
      " ('Friendly prisoner', 'SILENT'),\n",
      " ('Vengeful prisoner', 'SILENT'),\n",
      " ('Friendly prisoner', 'SILENT'),\n",
      " ('Vengeful prisoner', 'SILENT'),\n",
      " ('Friendly prisoner', 'SILENT'),\n",
      " ('Vengeful prisoner', 'SILENT'),\n",
      " ('Friendly prisoner', 'SILENT'),\n",
      " ('Vengeful prisoner', 'SILENT'),\n",
      " ('Friendly prisoner', 'SILENT')]\n",
      "Vengeful prisoner: -10\n",
      "Friendly prisoner: -10\n"
     ]
    }
   ],
   "source": [
    "p1 = Prisoner(\"Vengeful prisoner\", vengeful)\n",
    "p2 = Prisoner(\"Friendly prisoner\", always_silent)\n",
    "prison = Prison(p1, p2)\n",
    "prison.run(10)\n",
    "print_results(prison)\n"
   ]
  },
  {
   "cell_type": "markdown",
   "metadata": {},
   "source": [
    "Okay, so not a lot of change there—obviously, since the friendly prisoner isn't going to trigger the vengeance. Let's give that prisoner something to get angry about. We'll use the `coin_toss` strategy.\n",
    "\n",
    "Two-Face would approve:\n",
    "\n",
    "![Two-face](https://i.stack.imgur.com/M0fQV.jpg)"
   ]
  },
  {
   "cell_type": "code",
   "execution_count": null,
   "metadata": {
    "scrolled": true
   },
   "outputs": [],
   "source": [
    "p1 = Prisoner(\"Vengeful prisoner\", vengeful)\n",
    "p2 = Prisoner(\"Insane prisoner\", coin_toss)\n",
    "prison = Prison(p1, p2)\n",
    "prison.run(10)\n",
    "print_results(prison)"
   ]
  },
  {
   "cell_type": "markdown",
   "metadata": {},
   "source": [
    "Obviously a coin toss doesn't give us reliable results. Let's create a predictable strategy that always betrays after 5 rounds:"
   ]
  },
  {
   "cell_type": "code",
   "execution_count": 9,
   "metadata": {},
   "outputs": [],
   "source": [
    "def irritable(p: Prisoner, history):\n",
    "    \"\"\"\n",
    "    Predictably irritable strategy\n",
    "    \"\"\"\n",
    "    \n",
    "    # 5 rounds or fewer, stay silent. Otherwise, betray.\n",
    "    if len(history) <= 10:\n",
    "        return (p.label, \"SILENT\")\n",
    "    \n",
    "    return (p.label, \"BETRAY\")"
   ]
  },
  {
   "cell_type": "markdown",
   "metadata": {},
   "source": [
    "So with that, let's pit an irritable prisoner against a vengeful one."
   ]
  },
  {
   "cell_type": "code",
   "execution_count": 10,
   "metadata": {
    "scrolled": false
   },
   "outputs": [
    {
     "name": "stdout",
     "output_type": "stream",
     "text": [
      "[('Vengeful prisoner', 'SILENT'),\n",
      " ('Irritable prisoner', 'SILENT'),\n",
      " ('Vengeful prisoner', 'SILENT'),\n",
      " ('Irritable prisoner', 'SILENT'),\n",
      " ('Vengeful prisoner', 'SILENT'),\n",
      " ('Irritable prisoner', 'SILENT'),\n",
      " ('Vengeful prisoner', 'SILENT'),\n",
      " ('Irritable prisoner', 'SILENT'),\n",
      " ('Vengeful prisoner', 'SILENT'),\n",
      " ('Irritable prisoner', 'SILENT'),\n",
      " ('Vengeful prisoner', 'SILENT'),\n",
      " ('Irritable prisoner', 'SILENT'),\n",
      " ('Vengeful prisoner', 'SILENT'),\n",
      " ('Irritable prisoner', 'BETRAY'),\n",
      " ('Vengeful prisoner', 'BETRAY'),\n",
      " ('Irritable prisoner', 'BETRAY'),\n",
      " ('Vengeful prisoner', 'BETRAY'),\n",
      " ('Irritable prisoner', 'BETRAY'),\n",
      " ('Vengeful prisoner', 'BETRAY'),\n",
      " ('Irritable prisoner', 'BETRAY')]\n",
      "Vengeful prisoner: -15\n",
      "Irritable prisoner: -12\n"
     ]
    }
   ],
   "source": [
    "p1 = Prisoner(\"Vengeful prisoner\", vengeful)\n",
    "p2 = Prisoner(\"Irritable prisoner\", irritable)\n",
    "prison = Prison(p1, p2)\n",
    "prison.run(10)\n",
    "print_results(prison)"
   ]
  },
  {
   "cell_type": "markdown",
   "metadata": {},
   "source": [
    "The Irritable Prisoner will continue to hold its score advantage over the Vengeful prisoner—once betrayal starts, the first person to attempt to return to silence loses.\n",
    "\n",
    "Despite the Irritable Prisoner beating the Vengeful Prisoner this time, Vengeful (also known as \"Tit-for-tat\" is widely considered the most effective strategy.\n",
    "\n",
    "But effective doesn't mean fun. Write your own strategies below and experiment!\n",
    "\n"
   ]
  },
  {
   "cell_type": "code",
   "execution_count": null,
   "metadata": {},
   "outputs": [],
   "source": [
    "def my_strategy(p: Prisoner, history):\n",
    "    \"\"\"\n",
    "    Implement your own strategy here!\n",
    "    \"\"\"\n",
    "    \n",
    "    return (p.label, \"BETRAY\")"
   ]
  },
  {
   "cell_type": "code",
   "execution_count": null,
   "metadata": {},
   "outputs": [],
   "source": [
    "# Choose whatever strategies you like\n",
    "p1 = Prisoner(\"Vengeful prisoner\", vengeful)\n",
    "p2 = Prisoner(\"Insane prisoner\", my_strategy)\n",
    "prison = Prison(p1, p2)\n",
    "prison.run(10)\n",
    "print_results(prison)"
   ]
  }
 ],
 "metadata": {
  "kernelspec": {
   "display_name": "Python 3",
   "language": "python",
   "name": "python3"
  },
  "language_info": {
   "codemirror_mode": {
    "name": "ipython",
    "version": 3
   },
   "file_extension": ".py",
   "mimetype": "text/x-python",
   "name": "python",
   "nbconvert_exporter": "python",
   "pygments_lexer": "ipython3",
   "version": "3.6.2"
  }
 },
 "nbformat": 4,
 "nbformat_minor": 2
}
